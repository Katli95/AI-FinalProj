{
 "cells": [
  {
   "cell_type": "code",
   "execution_count": 32,
   "metadata": {},
   "outputs": [],
   "source": [
    "import numpy as np\n",
    "import tensorflow as tf\n",
    "sess = tf.InteractiveSession()"
   ]
  },
  {
   "cell_type": "code",
   "execution_count": 274,
   "metadata": {},
   "outputs": [],
   "source": [
    "GRID_DIM = 7\n",
    "BATCH_SIZE = 16\n",
    "NUM_BOXES = 2\n",
    "NO_OBJECT_SCALE = .5\n",
    "OBJECT_SCALE = 1.0\n",
    "COORD_SCALE = 5.0\n",
    "CLASS_SCALE = 1.0\n",
    "CLASS_WEIGHTS = np.array([1.5,0.7,0.5], dtype='float32')\n",
    "DEBUG = True"
   ]
  },
  {
   "cell_type": "code",
   "execution_count": 257,
   "metadata": {},
   "outputs": [],
   "source": [
    "y_true = np.zeros((16,7,7,2,8))\n",
    "y_true[...,3,3,0,:]=[3.5,3.5,0.3,0.4,1.,1.,0,0]\n",
    "y_true = tf.convert_to_tensor(y_true, dtype=np.float32)\n",
    "\n",
    "y_pred = np.zeros((16,7,7,2,8))\n",
    "y_pred[:4,3,3,0,:]=[0.5,0.5,np.sqrt(0.3),np.sqrt(0.4),1.,1.,0,0]\n",
    "y_pred[4:8,3,2,0,:]=[0.5,0.95,np.sqrt(0.4),np.sqrt(0.55),0.75,0.6,0.4,0]\n",
    "y_pred[8:,3,3,0,:]=[0.1,0.1,np.sqrt(0.37),np.sqrt(0.58),0.8,0.7,0.2,0.1]\n",
    "y_pred = tf.convert_to_tensor(y_pred, dtype=np.float32)"
   ]
  },
  {
   "cell_type": "code",
   "execution_count": 258,
   "metadata": {},
   "outputs": [],
   "source": [
    "mask_shape = tf.shape(y_true)[:4] #Masking out the four dimension Batch, width, height, num_box\n",
    "\n",
    "'''\n",
    "Creating a grid for calculations of actual positions of boxes in image\n",
    "'''\n",
    "cell_x = tf.to_float(tf.reshape(tf.tile(tf.range(GRID_DIM), [GRID_DIM]), (1, GRID_DIM, GRID_DIM, 1, 1)))\n",
    "cell_y = tf.transpose(cell_x, (0,2,1,3,4))\n",
    "cell_grid = tf.tile(tf.concat([cell_x,cell_y], -1), [BATCH_SIZE, 1, 1, NUM_BOXES, 1])"
   ]
  },
  {
   "cell_type": "code",
   "execution_count": 259,
   "metadata": {},
   "outputs": [],
   "source": [
    "'''\n",
    "Init masks\n",
    "'''\n",
    "coord_mask = tf.zeros(mask_shape)\n",
    "class_mask = tf.zeros(mask_shape)\n",
    "conf_mask_neg = tf.zeros(mask_shape)\n",
    "conf_mask_pos = tf.zeros(mask_shape)\n",
    "\n",
    "# For debug\n",
    "total_recall = tf.Variable(0.)"
   ]
  },
  {
   "cell_type": "code",
   "execution_count": 260,
   "metadata": {},
   "outputs": [],
   "source": [
    "\"\"\"\n",
    "Load prediction\n",
    "\"\"\"\n",
    "### get x and y in terms of grid\n",
    "pred_box_xy = y_pred[..., :2] + cell_grid\n",
    "        \n",
    "### account for network predicting squares of w and h\n",
    "sqrt_pred_box_wh = y_pred[..., 2:4]\n",
    "pred_box_wh = tf.square(sqrt_pred_box_wh)    \n",
    "    \n",
    "### confidence should be in [0,1]\n",
    "pred_box_conf = tf.sigmoid(y_pred[..., 4])\n",
    "        \n",
    "### class probabilities\n",
    "pred_box_class = y_pred[..., 5:]"
   ]
  },
  {
   "cell_type": "code",
   "execution_count": 261,
   "metadata": {},
   "outputs": [],
   "source": [
    "\"\"\"\n",
    "Load ground truth\n",
    "\"\"\"\n",
    "### x and y center of boxes\n",
    "true_box_xy = y_true[..., 0:2] # relative position to the containing cell\n",
    "\n",
    "### adjust w and h\n",
    "true_box_wh = y_true[..., 2:4] # number of cells accross, horizontally and vertically"
   ]
  },
  {
   "cell_type": "code",
   "execution_count": 262,
   "metadata": {},
   "outputs": [],
   "source": [
    "### Find iou for conf given obj, else 0\n",
    "true_wh_half = true_box_wh / 2.\n",
    "true_mins    = true_box_xy - true_wh_half\n",
    "true_maxes   = true_box_xy + true_wh_half\n",
    "\n",
    "pred_wh_half = pred_box_wh / 2.\n",
    "pred_mins    = pred_box_xy - pred_wh_half\n",
    "pred_maxes   = pred_box_xy + pred_wh_half\n",
    "\n",
    "intersect_mins  = tf.maximum(pred_mins,  true_mins)\n",
    "intersect_maxes = tf.minimum(pred_maxes, true_maxes)\n",
    "intersect_wh    = tf.maximum(intersect_maxes - intersect_mins, 0.)\n",
    "intersect_areas = intersect_wh[..., 0] * intersect_wh[..., 1]\n",
    "\n",
    "true_areas = true_box_wh[..., 0] * true_box_wh[..., 1]\n",
    "pred_areas = pred_box_wh[..., 0] * pred_box_wh[..., 1]\n",
    "\n",
    "union_areas = pred_areas + true_areas - intersect_areas\n",
    "iou_scores  = tf.where(tf.less(tf.abs(union_areas), 1e-4), union_areas, tf.truediv(intersect_areas, union_areas)) \n",
    "true_box_conf = iou_scores * y_true[..., 4]\n",
    "\n",
    "### adjust class probabilities\n",
    "true_box_class = tf.argmax(y_true[..., 5:], -1)"
   ]
  },
  {
   "cell_type": "code",
   "execution_count": 263,
   "metadata": {},
   "outputs": [
    {
     "name": "stdout",
     "output_type": "stream",
     "text": [
      "[3.5 3.5]\n",
      "[3.35 3.3 ]\n",
      "[3.35 3.3 ]\n",
      "[3.35 3.3 ]\n",
      "[3.65 3.7 ]\n",
      "[3.65 3.7 ]\n",
      "[3.65 3.7 ]\n",
      "[0.3000002 0.4000001]\n",
      "0.1200001\n",
      "0.120000005\n",
      "0.120000005\n",
      "0.11999991\n",
      "1.0000017\n",
      "[1.0000017 0.       ]\n",
      "Tensor(\"ArgMax_4:0\", shape=(16, 7, 7, 2), dtype=int64)\n"
     ]
    }
   ],
   "source": [
    "print(true_box_xy.eval()[0,3,3,0])\n",
    "print(pred_mins.eval()[0,3,3,0])\n",
    "print(true_mins.eval()[0,3,3,0])\n",
    "print(intersect_mins.eval()[0,3,3,0])\n",
    "print(pred_maxes.eval()[0,3,3,0])\n",
    "print(true_maxes.eval()[0,3,3,0])\n",
    "print(intersect_maxes.eval()[0,3,3,0])\n",
    "print(intersect_wh.eval()[0,3,3,0])\n",
    "print(intersect_areas.eval()[0,3,3,0])\n",
    "print(true_areas.eval()[0,3,3,0])\n",
    "print(pred_areas.eval()[0,3,3,0])\n",
    "print(union_areas.eval()[0,3,3,0])\n",
    "print(iou_scores.eval()[0,3,3,0])\n",
    "print(iou_scores.eval()[0,3,3])\n",
    "print(true_box_class)"
   ]
  },
  {
   "cell_type": "code",
   "execution_count": 271,
   "metadata": {},
   "outputs": [],
   "source": [
    "\"\"\"\n",
    "Determine the masks\n",
    "\"\"\"\n",
    "### coordinate mask: simply the position of the ground truth boxes (the predictors)\n",
    "coord_mask = tf.expand_dims(y_true[..., 4], axis=-1) * COORD_SCALE\n",
    "\n",
    "### confidence mask: penelize predictors + penalize boxes with low IOU\n",
    "# penalize the confidence of the boxes, which have IOU with some ground truth box < 0.6\n",
    "just_boxes = tf.reshape(y_true[..., 0:4], (BATCH_SIZE,1,1,1,GRID_DIM*GRID_DIM*NUM_BOXES,4))\n",
    "true_xy = just_boxes[...,0:2]\n",
    "true_wh = just_boxes[...,2:4]\n",
    "\n",
    "true_wh_half = true_wh / 2.\n",
    "true_mins    = true_xy - true_wh_half\n",
    "true_maxes   = true_xy + true_wh_half\n",
    "\n",
    "pred_xy = tf.expand_dims(pred_box_xy, 4)\n",
    "pred_wh = tf.expand_dims(pred_box_wh, 4)\n",
    "\n",
    "pred_wh_half = pred_wh / 2.\n",
    "pred_mins    = pred_xy - pred_wh_half\n",
    "pred_maxes   = pred_xy + pred_wh_half    \n",
    "\n",
    "intersect_mins  = tf.maximum(pred_mins,  true_mins)\n",
    "intersect_maxes = tf.minimum(pred_maxes, true_maxes)\n",
    "intersect_wh    = tf.maximum(intersect_maxes - intersect_mins, 0.)\n",
    "intersect_areas = intersect_wh[..., 0] * intersect_wh[..., 1]\n",
    "\n",
    "true_areas = true_wh[..., 0] * true_wh[..., 1]\n",
    "pred_areas = pred_wh[..., 0] * pred_wh[..., 1]\n",
    "\n",
    "union_areas = pred_areas + true_areas - intersect_areas\n",
    "iou_scores  = tf.truediv(intersect_areas, union_areas)\n",
    "\n",
    "best_ious = tf.reduce_max(iou_scores, axis=4)\n",
    "conf_mask_neg = tf.to_float(best_ious < 0.6) * (1 - y_true[..., 4]) * NO_OBJECT_SCALE\n",
    "conf_mask_pos = y_true[..., 4] * OBJECT_SCALE\n",
    "\n",
    "### class mask: simply the position of the ground truth boxes (the predictors)\n",
    "# class_mask = y_true[..., 4] * true_box_class * self.class_scale\n",
    "class_mask = y_true[..., 4] * tf.gather(CLASS_WEIGHTS, true_box_class) * CLASS_SCALE       \n"
   ]
  },
  {
   "cell_type": "code",
   "execution_count": 272,
   "metadata": {},
   "outputs": [
    {
     "name": "stdout",
     "output_type": "stream",
     "text": [
      "[[5.]\n",
      " [0.]]\n",
      "\n",
      "(16, 1, 1, 1, 98, 2)\n",
      "(16, 1, 1, 1, 98, 2)\n",
      "(16, 1, 1, 1, 98, 2)\n",
      "(16, 7, 7, 2, 1, 2)\n",
      "(16, 7, 7, 2, 1, 2)\n",
      "(16, 7, 7, 2, 98)\n",
      "(16, 7, 7, 2)\n",
      "[1.0000017 0.       ]\n",
      "(16, 7, 7, 2)\n",
      "(16, 7, 7, 2, 2)\n",
      "(16, 7, 7, 2)\n",
      "[1.5 0. ]\n"
     ]
    }
   ],
   "source": [
    "print(coord_mask.eval()[0,3,3])\n",
    "print()\n",
    "print(true_xy.eval().shape)\n",
    "print(true_wh.eval().shape)\n",
    "print(true_maxes.eval().shape)\n",
    "print(pred_xy.eval().shape)\n",
    "print(pred_wh.eval().shape)\n",
    "print(iou_scores.eval().shape)\n",
    "print(best_ious.eval().shape)\n",
    "print(best_ious.eval()[0,3,3])\n",
    "print(conf_mask.eval().shape)\n",
    "print(true_box_xy.eval().shape)\n",
    "print(class_mask.eval().shape)\n",
    "print(class_mask.eval()[0,3,3])\n"
   ]
  },
  {
   "cell_type": "code",
   "execution_count": 288,
   "metadata": {},
   "outputs": [
    {
     "name": "stdout",
     "output_type": "stream",
     "text": [
      "0.7125001\n",
      "0.20287497\n",
      "0.15930748\n",
      "0.06263614\n",
      "1.1947335\n",
      "2.3320522\n"
     ]
    }
   ],
   "source": [
    "\"\"\"\n",
    "Finalize the loss\n",
    "\"\"\"\n",
    "nb_coord_box = tf.reduce_sum(tf.to_float(coord_mask > 0.0))\n",
    "nb_conf_box_neg = tf.reduce_sum(tf.to_float(conf_mask_neg > 0.0))\n",
    "nb_conf_box_pos = tf.reduce_sum(tf.to_float(conf_mask_pos > 0.0))\n",
    "nb_class_box = tf.reduce_sum(tf.to_float(class_mask > 0.0))\n",
    "\n",
    "loss_xy    = tf.reduce_sum(tf.square(true_box_xy-pred_box_xy)     * coord_mask) / (nb_coord_box + 1e-6) / 2.\n",
    "loss_wh    = tf.reduce_sum(tf.square(true_box_wh-pred_box_wh)     * coord_mask) / (nb_coord_box + 1e-6) / 2.\n",
    "loss_conf_neg = tf.reduce_sum(tf.square(true_box_conf-pred_box_conf) * conf_mask_neg) / (nb_conf_box_neg + 1e-6) / 2.\n",
    "loss_conf_pos = tf.reduce_sum(tf.square(true_box_conf-pred_box_conf) * conf_mask_pos) / (nb_conf_box_pos + 1e-6) / 2.\n",
    "loss_class = tf.nn.sparse_softmax_cross_entropy_with_logits(labels=true_box_class, logits=pred_box_class)\n",
    "loss_class = tf.reduce_sum(loss_class * class_mask) / (nb_class_box + 1e-6)\n",
    "\n",
    "loss = loss_xy + loss_wh + loss_conf_pos + loss_conf_neg + loss_class\n",
    "\n",
    "print(loss_xy.eval())\n",
    "print(loss_wh.eval())\n",
    "print(loss_conf_pos.eval())\n",
    "print(loss_conf_neg.eval())\n",
    "print(loss_class.eval())\n",
    "print(loss.eval())"
   ]
  }
 ],
 "metadata": {
  "kernelspec": {
   "display_name": "Python 3",
   "language": "python",
   "name": "python3"
  },
  "language_info": {
   "codemirror_mode": {
    "name": "ipython",
    "version": 3
   },
   "file_extension": ".py",
   "mimetype": "text/x-python",
   "name": "python",
   "nbconvert_exporter": "python",
   "pygments_lexer": "ipython3",
   "version": "3.6.7"
  }
 },
 "nbformat": 4,
 "nbformat_minor": 2
}
