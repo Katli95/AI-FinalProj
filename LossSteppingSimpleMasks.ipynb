{
 "cells": [
  {
   "cell_type": "code",
   "execution_count": 1,
   "metadata": {},
   "outputs": [],
   "source": [
    "import numpy as np\n",
    "import tensorflow as tf\n",
    "# sess.close()\n",
    "sess = tf.InteractiveSession()"
   ]
  },
  {
   "cell_type": "code",
   "execution_count": 52,
   "metadata": {},
   "outputs": [],
   "source": [
    "import os"
   ]
  },
  {
   "cell_type": "code",
   "execution_count": 2,
   "metadata": {},
   "outputs": [],
   "source": [
    "GRID_DIM = 7\n",
    "BATCH_SIZE = 16\n",
    "NUM_BOXES = 2\n",
    "NO_OBJECT_SCALE = .5\n",
    "OBJECT_SCALE = 1.0\n",
    "COORD_SCALE = 5.0\n",
    "CLASS_SCALE = 1.0\n",
    "CLASS_WEIGHTS = np.array([1.5,0.7,0.5], dtype='float32')\n",
    "DEBUG = True"
   ]
  },
  {
   "cell_type": "code",
   "execution_count": 3,
   "metadata": {},
   "outputs": [],
   "source": [
    "y_true = np.zeros((16,7,7,2,8))\n",
    "y_true[...,3,3,0,:]=[.5,.5,5.,5.,1.,1.,0,0]\n",
    "y_true = tf.convert_to_tensor(y_true, dtype=np.float32)\n",
    "\n",
    "y_pred = np.zeros((16,7,7,2,8))\n",
    "y_pred[...,3,3,0,:]=[0.5,0.5,np.sqrt(5.),np.sqrt(5.),1.,0,1.0,0]\n",
    "# y_pred[4:8,3,:,0,:]=[0.5,0.95,np.sqrt(0.4),np.sqrt(0.55),0.75,0.6,0.4,0]\n",
    "# y_pred[:,:,:,:,:]=[0.1,0.1,np.sqrt(0.37),np.sqrt(0.58),0.8,0.7,0.2,0.1]\n",
    "y_pred = tf.convert_to_tensor(y_pred, dtype=np.float32)"
   ]
  },
  {
   "cell_type": "code",
   "execution_count": 4,
   "metadata": {},
   "outputs": [
    {
     "data": {
      "text/plain": [
       "'\\nCreating a grid for calculations of actual positions of boxes in image\\n'"
      ]
     },
     "execution_count": 4,
     "metadata": {},
     "output_type": "execute_result"
    }
   ],
   "source": [
    "mask_shape = tf.shape(y_true)[:4] #Masking out the four dimension Batch, width, height, num_box\n",
    "\n",
    "'''\n",
    "Creating a grid for calculations of actual positions of boxes in image\n",
    "'''\n",
    "# cell_x = tf.to_float(tf.reshape(tf.tile(tf.range(GRID_DIM), [GRID_DIM]), (1, GRID_DIM, GRID_DIM, 1, 1)))\n",
    "# cell_y = tf.transpose(cell_x, (0,2,1,3,4))\n",
    "# cell_grid = tf.tile(tf.concat([cell_x,cell_y], -1), [BATCH_SIZE, 1, 1, NUM_BOXES, 1])"
   ]
  },
  {
   "cell_type": "code",
   "execution_count": 5,
   "metadata": {},
   "outputs": [
    {
     "data": {
      "text/plain": [
       "'\\nInit masks\\n'"
      ]
     },
     "execution_count": 5,
     "metadata": {},
     "output_type": "execute_result"
    }
   ],
   "source": [
    "'''\n",
    "Init masks\n",
    "'''\n",
    "# coord_mask = tf.zeros(mask_shape)\n",
    "# class_mask = tf.zeros(mask_shape)\n",
    "# conf_mask_neg = tf.zeros(mask_shape)\n",
    "# conf_mask_pos = tf.zeros(mask_shape)"
   ]
  },
  {
   "cell_type": "code",
   "execution_count": 6,
   "metadata": {},
   "outputs": [],
   "source": [
    "\"\"\"\n",
    "Load prediction\n",
    "\"\"\"\n",
    "### get x and y in terms of grid\n",
    "pred_box_xy = y_pred[..., :2] #+ cell_grid\n",
    "        \n",
    "### account for network predicting squares of w and h\n",
    "sqrt_pred_box_wh = y_pred[..., 2:4]\n",
    "pred_box_wh = tf.square(sqrt_pred_box_wh)    \n",
    "    \n",
    "### confidence should be in [0,1]\n",
    "pred_box_conf = y_pred[..., 4]\n",
    "        \n",
    "### class probabilities\n",
    "pred_box_class = y_pred[..., 5:]"
   ]
  },
  {
   "cell_type": "code",
   "execution_count": 7,
   "metadata": {},
   "outputs": [
    {
     "name": "stdout",
     "output_type": "stream",
     "text": [
      "[[0. 1. 0.]\n",
      " [0. 1. 0.]\n",
      " [0. 1. 0.]\n",
      " [0. 1. 0.]\n",
      " [0. 1. 0.]\n",
      " [0. 1. 0.]\n",
      " [0. 1. 0.]\n",
      " [0. 1. 0.]\n",
      " [0. 1. 0.]\n",
      " [0. 1. 0.]\n",
      " [0. 1. 0.]\n",
      " [0. 1. 0.]\n",
      " [0. 1. 0.]\n",
      " [0. 1. 0.]\n",
      " [0. 1. 0.]\n",
      " [0. 1. 0.]]\n",
      "[1. 1. 1. 1. 1. 1. 1. 1. 1. 1. 1. 1. 1. 1. 1. 1.]\n"
     ]
    }
   ],
   "source": [
    "print(pred_box_class.eval()[...,3,3,0,:])\n",
    "print(pred_box_conf.eval()[...,3,3,0])"
   ]
  },
  {
   "cell_type": "code",
   "execution_count": 8,
   "metadata": {},
   "outputs": [],
   "source": [
    "\"\"\"\n",
    "Load ground truth\n",
    "\"\"\"\n",
    "### x and y center of boxes\n",
    "true_box_xy = y_true[..., 0:2] # relative position to the containing cell\n",
    "\n",
    "### adjust w and h\n",
    "true_box_wh = y_true[..., 2:4] # number of cells accross, horizontally and vertically"
   ]
  },
  {
   "cell_type": "code",
   "execution_count": 9,
   "metadata": {},
   "outputs": [
    {
     "name": "stdout",
     "output_type": "stream",
     "text": [
      "[0.5 0.5]\n",
      "[0.5 0.5]\n",
      "[5. 5.]\n",
      "[5. 5.]\n"
     ]
    }
   ],
   "source": [
    "print(pred_box_xy[0,3,3,0,:].eval())\n",
    "print(true_box_xy[0,3,3,0,:].eval())\n",
    "print(pred_box_wh[0,3,3,0,:].eval())\n",
    "print(true_box_wh[0,3,3,0,:].eval())"
   ]
  },
  {
   "cell_type": "code",
   "execution_count": 10,
   "metadata": {},
   "outputs": [],
   "source": [
    "### Find iou for conf given obj, else 0\n",
    "true_wh_half = true_box_wh / 2.\n",
    "true_mins    = true_box_xy - true_wh_half\n",
    "true_maxes   = true_box_xy + true_wh_half\n",
    "\n",
    "pred_wh_half = pred_box_wh / 2.\n",
    "pred_mins    = pred_box_xy - pred_wh_half\n",
    "pred_maxes   = pred_box_xy + pred_wh_half\n",
    "\n",
    "intersect_mins  = tf.maximum(pred_mins,  true_mins)\n",
    "intersect_maxes = tf.minimum(pred_maxes, true_maxes)\n",
    "intersect_wh    = tf.maximum(intersect_maxes - intersect_mins, 0.)\n",
    "intersect_areas = intersect_wh[..., 0] * intersect_wh[..., 1]\n",
    "\n",
    "true_areas = true_box_wh[..., 0] * true_box_wh[..., 1]\n",
    "pred_areas = pred_box_wh[..., 0] * pred_box_wh[..., 1]\n",
    "\n",
    "union_areas = pred_areas + true_areas - intersect_areas\n",
    "iou_scores  = tf.where(tf.less(tf.abs(union_areas), 1e-4), union_areas, tf.truediv(intersect_areas, union_areas)) \n",
    "true_box_conf = iou_scores * y_true[..., 4]\n",
    "\n",
    "### adjust class probabilities\n",
    "true_box_class = y_true[..., 5:]"
   ]
  },
  {
   "cell_type": "code",
   "execution_count": 11,
   "metadata": {},
   "outputs": [
    {
     "name": "stdout",
     "output_type": "stream",
     "text": [
      "[-2. -2.]\n",
      "[-2. -2.]\n",
      "[-2. -2.]\n",
      "[3. 3.]\n",
      "[3. 3.]\n",
      "[3. 3.]\n",
      "[5. 5.]\n",
      "25.0\n",
      "25.0\n",
      "25.0\n",
      "25.0\n",
      "1.0\n",
      "[1. 0.]\n",
      "Tensor(\"strided_slice_18:0\", shape=(16, 7, 7, 2, 3), dtype=float32)\n"
     ]
    }
   ],
   "source": [
    "print(pred_mins.eval()[0,3,3,0])\n",
    "print(true_mins.eval()[0,3,3,0])\n",
    "print(intersect_mins.eval()[0,3,3,0])\n",
    "print(pred_maxes.eval()[0,3,3,0])\n",
    "print(true_maxes.eval()[0,3,3,0])\n",
    "print(intersect_maxes.eval()[0,3,3,0])\n",
    "print(intersect_wh.eval()[0,3,3,0])\n",
    "print(intersect_areas.eval()[0,3,3,0])\n",
    "print(true_areas.eval()[0,3,3,0])\n",
    "print(pred_areas.eval()[0,3,3,0])\n",
    "print(union_areas.eval()[0,3,3,0])\n",
    "print(iou_scores.eval()[0,3,3,0])\n",
    "print(iou_scores.eval()[0,3,3])\n",
    "print(true_box_class)"
   ]
  },
  {
   "cell_type": "code",
   "execution_count": 12,
   "metadata": {},
   "outputs": [],
   "source": [
    "\"\"\"\n",
    "Determine the masks\n",
    "\"\"\"\n",
    "### coordinate mask: simply the position of the ground truth boxes (the predictors)\n",
    "obj_mask_for_mult_attr = tf.expand_dims(y_true[..., 4], axis=-1)\n",
    "obj_mask_for_one_attr = y_true[..., 4]\n",
    "coord_mask =  obj_mask_for_mult_attr * COORD_SCALE\n",
    "conf_mask_obj = obj_mask_for_one_attr * OBJECT_SCALE\n",
    "conf_mask_no_obj = (1-obj_mask_for_one_attr) * NO_OBJECT_SCALE\n",
    "\n",
    "### confidence mask: penelize predictors + penalize boxes with low IOU\n",
    "# penalize the confidence of the boxes, which have IOU with some ground truth box < 0.6\n",
    "# just_boxes = tf.reshape(y_true[..., 0:4], (BATCH_SIZE,1,1,1,GRID_DIM*GRID_DIM*NUM_BOXES,4))\n",
    "# true_xy = just_boxes[...,0:2]\n",
    "# true_wh = just_boxes[...,2:4]\n",
    "\n",
    "# true_wh_half = true_wh / 2.\n",
    "# true_mins    = true_xy - true_wh_half\n",
    "# true_maxes   = true_xy + true_wh_half\n",
    "\n",
    "# pred_xy = tf.expand_dims(pred_box_xy, 4)\n",
    "# pred_wh = tf.expand_dims(pred_box_wh, 4)\n",
    "\n",
    "# pred_wh_half = pred_wh / 2.\n",
    "# pred_mins    = pred_xy - pred_wh_half\n",
    "# pred_maxes   = pred_xy + pred_wh_half    \n",
    "\n",
    "# intersect_mins  = tf.maximum(pred_mins,  true_mins)\n",
    "# intersect_maxes = tf.minimum(pred_maxes, true_maxes)\n",
    "# intersect_wh    = tf.maximum(intersect_maxes - intersect_mins, 0.)\n",
    "# intersect_areas = intersect_wh[..., 0] * intersect_wh[..., 1]\n",
    "\n",
    "# true_areas = true_wh[..., 0] * true_wh[..., 1]\n",
    "# pred_areas = pred_wh[..., 0] * pred_wh[..., 1]\n",
    "\n",
    "# union_areas = pred_areas + true_areas - intersect_areas\n",
    "# iou_scores  = tf.truediv(intersect_areas, union_areas)\n",
    "\n",
    "# best_ious = tf.reduce_max(iou_scores, axis=4)\n",
    "# conf_mask_neg = tf.to_float(best_ious < 0.6) * (1 - y_true[..., 4]) * NO_OBJECT_SCALE\n",
    "# conf_mask_pos = y_true[..., 4] * OBJECT_SCALE\n",
    "\n",
    "### class mask: simply the position of the ground truth boxes (the predictors)\n",
    "# class_mask = y_true[..., 4] * true_box_class * self.class_scale\n",
    "# class_mask = y_true[..., 4] * tf.gather(CLASS_WEIGHTS, true_box_class) * CLASS_SCALE       \n"
   ]
  },
  {
   "cell_type": "code",
   "execution_count": 13,
   "metadata": {},
   "outputs": [
    {
     "name": "stdout",
     "output_type": "stream",
     "text": [
      "[[5.]\n",
      " [0.]]\n",
      "(16, 7, 7, 2)\n",
      "(16, 7, 7, 2)\n",
      "(16, 7, 7, 2, 2)\n",
      "(16, 7, 7, 2, 1)\n"
     ]
    }
   ],
   "source": [
    "print(coord_mask.eval()[0,3,3])\n",
    "# print()\n",
    "# print(true_xy.eval().shape)\n",
    "# print(true_wh.eval().shape)\n",
    "# print(true_maxes.eval().shape)\n",
    "# print(pred_xy.eval().shape)\n",
    "# print(pred_wh.eval().shape)\n",
    "# print(iou_scores.eval().shape)\n",
    "# print(best_ious.eval().shape)\n",
    "# print(best_ious.eval()[0,3,3])\n",
    "# print(conf_mask_pos.eval().shape)\n",
    "# print(true_box_xy.eval().shape)\n",
    "# print(class_mask.eval().shape)\n",
    "# print(class_mask.eval()[0,3,3])\n",
    "print(true_box_conf.eval().shape)\n",
    "print(pred_box_conf.eval().shape)\n",
    "print(tf.square(true_box_xy-pred_box_xy).eval().shape)\n",
    "print(coord_mask.eval().shape)"
   ]
  },
  {
   "cell_type": "code",
   "execution_count": 54,
   "metadata": {
    "scrolled": true
   },
   "outputs": [
    {
     "ename": "PermissionError",
     "evalue": "[WinError 32] The process cannot access the file because it is being used by another process: './debug/0_loss_loss_xy__loss_wh__loss_conf_neg__loss_conf_pos.npz'",
     "output_type": "error",
     "traceback": [
      "\u001b[1;31m---------------------------------------------------------------------------\u001b[0m",
      "\u001b[1;31mPermissionError\u001b[0m                           Traceback (most recent call last)",
      "\u001b[1;32m<ipython-input-54-c0792a78a0f8>\u001b[0m in \u001b[0;36m<module>\u001b[1;34m\u001b[0m\n\u001b[0;32m     18\u001b[0m             \u001b[0mloss_names\u001b[0m \u001b[1;33m=\u001b[0m \u001b[1;33m[\u001b[0m\u001b[1;34m\"loss_xy\"\u001b[0m\u001b[1;33m,\u001b[0m \u001b[1;34m\"loss_wh\"\u001b[0m\u001b[1;33m,\u001b[0m \u001b[1;34m\"loss_conf_neg\"\u001b[0m\u001b[1;33m,\u001b[0m \u001b[1;34m\"loss_conf_pos\"\u001b[0m\u001b[1;33m,\u001b[0m \u001b[1;34m\"loss_class\"\u001b[0m\u001b[1;33m]\u001b[0m\u001b[1;33m\u001b[0m\u001b[1;33m\u001b[0m\u001b[0m\n\u001b[0;32m     19\u001b[0m             \u001b[0mfile_path\u001b[0m \u001b[1;33m=\u001b[0m \u001b[1;34m\"./debug/0_loss_\"\u001b[0m \u001b[1;33m+\u001b[0m  \u001b[1;34m\"__\"\u001b[0m\u001b[1;33m.\u001b[0m\u001b[0mjoin\u001b[0m\u001b[1;33m(\u001b[0m\u001b[1;33m[\u001b[0m\u001b[0mloss_names\u001b[0m\u001b[1;33m[\u001b[0m\u001b[0mi\u001b[0m\u001b[1;33m]\u001b[0m \u001b[1;32mfor\u001b[0m \u001b[0mi\u001b[0m\u001b[1;33m,\u001b[0m\u001b[0mx\u001b[0m \u001b[1;32min\u001b[0m \u001b[0menumerate\u001b[0m\u001b[1;33m(\u001b[0m\u001b[0mzero_losses\u001b[0m\u001b[1;33m)\u001b[0m \u001b[1;32mif\u001b[0m \u001b[0mx\u001b[0m\u001b[1;33m]\u001b[0m\u001b[1;33m)\u001b[0m \u001b[1;33m+\u001b[0m \u001b[1;34m\".npz\"\u001b[0m\u001b[1;33m\u001b[0m\u001b[1;33m\u001b[0m\u001b[0m\n\u001b[1;32m---> 20\u001b[1;33m             \u001b[0mos\u001b[0m\u001b[1;33m.\u001b[0m\u001b[0mremove\u001b[0m\u001b[1;33m(\u001b[0m\u001b[0mfile_path\u001b[0m\u001b[1;33m)\u001b[0m\u001b[1;33m\u001b[0m\u001b[1;33m\u001b[0m\u001b[0m\n\u001b[0m\u001b[0;32m     21\u001b[0m             \u001b[1;32mwith\u001b[0m \u001b[0mopen\u001b[0m\u001b[1;33m(\u001b[0m\u001b[0mfile_path\u001b[0m\u001b[1;33m,\u001b[0m \u001b[1;34m\"wb\"\u001b[0m\u001b[1;33m)\u001b[0m \u001b[1;32mas\u001b[0m \u001b[0mfile\u001b[0m\u001b[1;33m:\u001b[0m\u001b[1;33m\u001b[0m\u001b[1;33m\u001b[0m\u001b[0m\n\u001b[0;32m     22\u001b[0m                 \u001b[0mnp\u001b[0m\u001b[1;33m.\u001b[0m\u001b[0msavez\u001b[0m\u001b[1;33m(\u001b[0m\u001b[0mfile\u001b[0m\u001b[1;33m,\u001b[0m \u001b[0mtrue\u001b[0m\u001b[1;33m=\u001b[0m\u001b[0my_true\u001b[0m\u001b[1;33m.\u001b[0m\u001b[0meval\u001b[0m\u001b[1;33m(\u001b[0m\u001b[1;33m)\u001b[0m\u001b[1;33m,\u001b[0m \u001b[0mpred\u001b[0m\u001b[1;33m=\u001b[0m\u001b[0my_pred\u001b[0m\u001b[1;33m.\u001b[0m\u001b[0meval\u001b[0m\u001b[1;33m(\u001b[0m\u001b[1;33m)\u001b[0m\u001b[1;33m)\u001b[0m\u001b[1;33m\u001b[0m\u001b[1;33m\u001b[0m\u001b[0m\n",
      "\u001b[1;31mPermissionError\u001b[0m: [WinError 32] The process cannot access the file because it is being used by another process: './debug/0_loss_loss_xy__loss_wh__loss_conf_neg__loss_conf_pos.npz'"
     ]
    }
   ],
   "source": [
    "\"\"\"\n",
    "Finalize the loss\n",
    "\"\"\"\n",
    "nb_coord_box = tf.reduce_sum(tf.to_float(coord_mask > 0.0))\n",
    "nb_conf_box_neg = tf.reduce_sum(tf.to_float(conf_mask_no_obj > 0.0))\n",
    "nb_conf_box_pos = tf.reduce_sum(tf.to_float(conf_mask_obj > 0.0))\n",
    "nb_obj = tf.reduce_sum(tf.to_float(obj_mask_for_one_attr > 0.0))\n",
    "\n",
    "loss_xy    = tf.reduce_sum(tf.square(true_box_xy-pred_box_xy)     * coord_mask) / (nb_coord_box + 1e-6) / 2.\n",
    "loss_wh    = tf.reduce_sum(tf.square(true_box_wh-pred_box_wh)     * coord_mask) / (nb_coord_box + 1e-6) / 2.\n",
    "loss_conf_neg = tf.reduce_sum(tf.square(true_box_conf-pred_box_conf) * conf_mask_no_obj) / (nb_conf_box_neg + 1e-6) / 2.\n",
    "loss_conf_pos = tf.reduce_sum(tf.square(true_box_conf-pred_box_conf) * conf_mask_obj) / (nb_conf_box_pos + 1e-6) / 2.\n",
    "loss_class = tf.reduce_sum(tf.square(true_box_class - pred_box_class)* obj_mask_for_mult_attr)/(nb_obj + 1e-6)\n",
    "\n",
    "\n",
    "zero_losses = [tf.less(x,1e-5).eval() for x in [loss_xy, loss_wh, loss_conf_neg, loss_conf_pos, loss_class]]\n",
    "if(any(zero_losses)):\n",
    "            loss_names = [\"loss_xy\", \"loss_wh\", \"loss_conf_neg\", \"loss_conf_pos\", \"loss_class\"]\n",
    "            file_path = \"./debug/0_loss_\" +  \"__\".join([loss_names[i] for i,x in enumerate(zero_losses) if x]) + \".npz\"\n",
    "            os.remove(file_path)\n",
    "            with open(file_path, \"wb\") as file:\n",
    "                np.savez(file, true=y_true.eval(), pred=y_pred.eval())\n",
    "            print(\"Model saved in path: %s\" % file_path)\n",
    "\n",
    "loss = loss_xy + loss_wh + loss_conf_pos + loss_conf_neg + loss_class\n",
    "\n",
    "print(loss_xy.eval())\n",
    "print(loss_wh.eval())\n",
    "print(loss_conf_pos.eval())\n",
    "print(loss_conf_neg.eval())\n",
    "print(loss_class.eval())\n",
    "print(loss.eval())"
   ]
  },
  {
   "cell_type": "code",
   "execution_count": null,
   "metadata": {},
   "outputs": [],
   "source": []
  }
 ],
 "metadata": {
  "kernelspec": {
   "display_name": "Python 3",
   "language": "python",
   "name": "python3"
  },
  "language_info": {
   "codemirror_mode": {
    "name": "ipython",
    "version": 3
   },
   "file_extension": ".py",
   "mimetype": "text/x-python",
   "name": "python",
   "nbconvert_exporter": "python",
   "pygments_lexer": "ipython3",
   "version": "3.6.7"
  }
 },
 "nbformat": 4,
 "nbformat_minor": 2
}
