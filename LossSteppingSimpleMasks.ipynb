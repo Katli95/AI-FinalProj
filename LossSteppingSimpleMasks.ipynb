{
 "cells": [
  {
   "cell_type": "code",
   "execution_count": 1,
   "metadata": {},
   "outputs": [],
   "source": [
    "import numpy as np\n",
    "import tensorflow as tf\n",
    "# sess.close()\n",
    "sess = tf.InteractiveSession()"
   ]
  },
  {
   "cell_type": "code",
   "execution_count": 52,
   "metadata": {},
   "outputs": [],
   "source": [
    "import os"
   ]
  },
  {
   "cell_type": "code",
   "execution_count": 2,
   "metadata": {},
   "outputs": [],
   "source": [
    "GRID_DIM = 7\n",
    "BATCH_SIZE = 16\n",
    "NUM_BOXES = 2\n",
    "NO_OBJECT_SCALE = .5\n",
    "OBJECT_SCALE = 1.0\n",
    "COORD_SCALE = 5.0\n",
    "CLASS_SCALE = 1.0\n",
    "CLASS_WEIGHTS = np.array([1.5,0.7,0.5], dtype='float32')\n",
    "DEBUG = True"
   ]
  },
  {
   "cell_type": "code",
   "execution_count": 219,
   "metadata": {},
   "outputs": [],
   "source": [
    "y_true = np.zeros((16,7,7,2,8))\n",
    "y_true[...]=[.5,.5,.7,.7,1.,1.,0,0]\n",
    "y_true = tf.convert_to_tensor(y_true, dtype=np.float32)\n",
    "\n",
    "y_pred = np.zeros((16,7,7,2,8))\n",
    "# y_pred[...,3,3,0,:]=[0.5,0.5,.5,.9,1.,.1,.0,0]\n",
    "# y_pred[4:8,3,:,0,:]=[0.5,0.95,np.sqrt(0.4),np.sqrt(0.55),0.75,0.6,0.4,0]\n",
    "# y_pred[:4,:,:,:,:]=[0.1,0.1,np.sqrt(4),np.sqrt(4),0.8,0.7,0.2,0.1]\n",
    "# y_pred[...]=[0.6,0.8,0.4,0.1,0.9,0.9,0.4,0.1]\n",
    "y_pred = tf.convert_to_tensor(y_pred, dtype=np.float32)"
   ]
  },
  {
   "cell_type": "code",
   "execution_count": 221,
   "metadata": {},
   "outputs": [
    {
     "name": "stdout",
     "output_type": "stream",
     "text": [
      "13171.215\n"
     ]
    }
   ],
   "source": [
    "pred_box_xy = y_pred[..., :2] #+ cell_grid\n",
    "\n",
    "### account for network predicting squares of w and h\n",
    "sqrt_pred_box_wh = y_pred[..., 2:4]\n",
    "pred_box_wh = tf.square(sqrt_pred_box_wh)    \n",
    "\n",
    "### confidence should be in [0,1]\n",
    "pred_box_conf = y_pred[..., 4]\n",
    "\n",
    "### class probabilities\n",
    "pred_box_class = y_pred[..., 5:]\n",
    "\n",
    "\"\"\"\n",
    "Load ground truth\n",
    "\"\"\"\n",
    "### x and y center of boxes\n",
    "true_box_xy = y_true[..., 0:2] # relative position to the containing cell\n",
    "\n",
    "### adjust w and h\n",
    "sqrt_true_box_wh = y_true[..., 2:4] # number of cells accross, horizontally and vertically\n",
    "true_box_wh = tf.square(sqrt_true_box_wh)\n",
    "\n",
    "### Find iou for conf given obj, else 0\n",
    "true_wh_half = true_box_wh / 2.\n",
    "true_mins    = true_box_xy - true_wh_half\n",
    "true_maxes   = true_box_xy + true_wh_half\n",
    "\n",
    "pred_wh_half = pred_box_wh / 2.\n",
    "pred_mins    = pred_box_xy - pred_wh_half\n",
    "pred_maxes   = pred_box_xy + pred_wh_half\n",
    "\n",
    "intersect_mins  = tf.maximum(pred_mins,  true_mins)\n",
    "intersect_maxes = tf.minimum(pred_maxes, true_maxes)\n",
    "intersect_wh    = tf.maximum(intersect_maxes - intersect_mins, 0.)\n",
    "intersect_areas = intersect_wh[..., 0] * intersect_wh[..., 1]\n",
    "\n",
    "true_areas = true_box_wh[..., 0] * true_box_wh[..., 1]\n",
    "pred_areas = pred_box_wh[..., 0] * pred_box_wh[..., 1]\n",
    "\n",
    "union_areas = pred_areas + true_areas - intersect_areas\n",
    "iou_scores  = tf.where(tf.less(tf.abs(union_areas), 1e-4), union_areas, tf.truediv(intersect_areas, union_areas)) \n",
    "true_box_conf = iou_scores * y_true[..., 4]\n",
    "\n",
    "### adjust class probabilities\n",
    "true_box_class = y_true[..., 5:]\n",
    "\n",
    "\"\"\"\n",
    "Determine the masks\n",
    "\"\"\"\n",
    "### coordinate mask: simply the position of the ground truth boxes (the predictors)\n",
    "obj_mask_for_mult_attr = tf.expand_dims(y_true[..., 4], axis=-1)\n",
    "obj_mask_for_one_attr = y_true[..., 4]\n",
    "coord_mask =  obj_mask_for_mult_attr * COORD_SCALE\n",
    "conf_mask_obj = obj_mask_for_one_attr * OBJECT_SCALE\n",
    "conf_mask_no_obj = (1-obj_mask_for_one_attr) * NO_OBJECT_SCALE\n",
    "\n",
    "\"\"\"\n",
    "Summarize the loss\n",
    "\"\"\"\n",
    "# nb_coord_box = tf.reduce_sum(tf.to_float(coord_mask > 0.0))\n",
    "# nb_conf_box_neg = tf.reduce_sum(tf.to_float(conf_mask_no_obj > 0.0))\n",
    "# nb_conf_box_pos = tf.reduce_sum(tf.to_float(conf_mask_obj > 0.0))\n",
    "# nb_obj = tf.reduce_sum(tf.to_float(obj_mask_for_one_attr > 0.0))\n",
    "\n",
    "loss_xy    = tf.reduce_sum(tf.square(true_box_xy-pred_box_xy) * coord_mask, axis=[1,2,3,4]) #/ (nb_coord_box + 1e-6) / 2.\n",
    "loss_wh    = tf.reduce_sum(tf.square(sqrt_true_box_wh-sqrt_pred_box_wh) * coord_mask, axis=[1,2,3,4]) #/ (nb_coord_box + 1e-6) / 2.\n",
    "loss_conf_neg = tf.reduce_sum(tf.square(true_box_conf-pred_box_conf) * conf_mask_no_obj, axis=[1,2,3]) #/ (nb_conf_box_neg + 1e-6) / 2.\n",
    "loss_conf_pos = tf.reduce_sum(tf.square(true_box_conf-pred_box_conf) * conf_mask_obj, axis=[1,2,3]) #/ (nb_conf_box_pos + 1e-6) / 2.\n",
    "loss_class = tf.reduce_sum(tf.square(true_box_class - pred_box_class)* obj_mask_for_mult_attr, axis=[1,2,3,4])#/(nb_obj + 1e-6)\n",
    "\n",
    "loss = loss_xy + loss_wh + loss_conf_pos + loss_conf_neg + loss_class\n",
    "print(tf.reduce_sum(loss).eval())"
   ]
  },
  {
   "cell_type": "code",
   "execution_count": 220,
   "metadata": {},
   "outputs": [
    {
     "data": {
      "text/plain": [
       "5456.622"
      ]
     },
     "execution_count": 220,
     "metadata": {},
     "output_type": "execute_result"
    }
   ],
   "source": [
    "tf.reduce_sum(tf.square(y_pred - y_true)).eval()"
   ]
  }
 ],
 "metadata": {
  "kernelspec": {
   "display_name": "Python 3",
   "language": "python",
   "name": "python3"
  },
  "language_info": {
   "codemirror_mode": {
    "name": "ipython",
    "version": 3
   },
   "file_extension": ".py",
   "mimetype": "text/x-python",
   "name": "python",
   "nbconvert_exporter": "python",
   "pygments_lexer": "ipython3",
   "version": "3.6.7"
  }
 },
 "nbformat": 4,
 "nbformat_minor": 2
}
